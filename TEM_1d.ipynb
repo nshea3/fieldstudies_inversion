{
 "cells": [
  {
   "cell_type": "code",
   "execution_count": 38,
   "metadata": {},
   "outputs": [],
   "source": [
    "#Load up the data\n",
    "f = open('data.txt')\n",
    "data = f.read()"
   ]
  },
  {
   "cell_type": "code",
   "execution_count": 39,
   "metadata": {},
   "outputs": [
    {
     "data": {
      "text/plain": [
       "[['Wn', 'Mag', '3', 'Rho', '3'],\n",
       " ['0.549u', '0.2180', '1023.1'],\n",
       " ['1.753u', '0.1302', '208.01'],\n",
       " ['2.958u', '78.000m', '122.42'],\n",
       " ['4.162u', '47.102m', '96.956'],\n",
       " ['5.367u', '29.021m', '87.660'],\n",
       " ['6.572u', '18.622m', '84.081'],\n",
       " ['8.355u', '10.934m', '80.362'],\n",
       " ['10.77u', '6.0572m', '78.035'],\n",
       " ['13.18u', '3.8464m', '75.415'],\n",
       " ['16.16u', '2.5079m', '71.416'],\n",
       " ['19.79u', '1.6764m', '66.685'],\n",
       " ['24.52u', '1.0953m', '61.936'],\n",
       " ['31.12u', '666.94u', '57.953'],\n",
       " ['38.93u', '360.83u', '60.102'],\n",
       " ['48.49u', '161.97u', '71.082'],\n",
       " ['60.48u', '79.009u', '79.383'],\n",
       " ['75.97u', '53.373u', '70.504'],\n",
       " ['96.31u', '21.201u', '87.868'],\n",
       " ['121.5u', '5.2473u', '151.35'],\n",
       " ['152.6u', '-4.8253u', '109.45'],\n",
       " ['191.5u', '-6.4506u', '61.762'],\n",
       " ['241.1u', '-7.0746u', '39.574'],\n",
       " ['304.0u', '-5.5605u', '31.575'],\n",
       " ['381.8u', '-3.3807u', '30.087'],\n",
       " ['479.9u', '-2.4603u', '25.407'],\n",
       " ['604.3u', '-0.7467u', '38.309'],\n",
       " ['760.6u', '-0.9585u', '22.109'],\n",
       " ['957.3u', '-0.3366u', '30.268'],\n",
       " ['1.206m', '0.1437u', '36.350'],\n",
       " ['1.517m', '0.6436u', '9.1233'],\n",
       " ['1.910m', '0.4685u', '7.6766']]"
      ]
     },
     "execution_count": 39,
     "metadata": {},
     "output_type": "execute_result"
    }
   ],
   "source": [
    "array = [line.split() for line in data.split(\"\\n\")][5:]\n",
    "array"
   ]
  },
  {
   "cell_type": "code",
   "execution_count": 40,
   "metadata": {},
   "outputs": [
    {
     "data": {
      "text/plain": [
       "[[5.49e-07, 0.218, 1023.1],\n",
       " [1.753e-06, 0.1302, 208.01],\n",
       " [2.958e-06, 0.078, 122.42],\n",
       " [4.162e-06, 0.047102, 96.956],\n",
       " [5.367e-06, 0.029021, 87.66],\n",
       " [6.572e-06, 0.018622, 84.081],\n",
       " [8.355e-06, 0.010934, 80.362],\n",
       " [1.077e-05, 0.0060572, 78.035],\n",
       " [1.318e-05, 0.0038464, 75.415],\n",
       " [1.616e-05, 0.0025079, 71.416],\n",
       " [1.979e-05, 0.0016764, 66.685],\n",
       " [2.452e-05, 0.0010953, 61.936],\n",
       " [3.112e-05, 0.00066694, 57.953],\n",
       " [3.893e-05, 0.00036083, 60.102],\n",
       " [4.849e-05, 0.00016197, 71.082],\n",
       " [6.048e-05, 7.9009e-05, 79.383],\n",
       " [7.597e-05, 5.3373e-05, 70.504],\n",
       " [9.631e-05, 2.1201e-05, 87.868],\n",
       " [0.0001215, 5.2473e-06, 151.35],\n",
       " [0.0001526, -4.8253e-06, 109.45],\n",
       " [0.0001915, -6.4506e-06, 61.762],\n",
       " [0.0002411, -7.0746e-06, 39.574],\n",
       " [0.000304, -5.5605e-06, 31.575],\n",
       " [0.0003818, -3.3807e-06, 30.087],\n",
       " [0.0004799, -2.4603e-06, 25.407],\n",
       " [0.0006043, -7.467e-07, 38.309],\n",
       " [0.0007606, -9.585e-07, 22.109],\n",
       " [0.0009573, -3.366e-07, 30.268],\n",
       " [0.001206, 1.437e-07, 36.35],\n",
       " [0.001517, 6.436e-07, 9.1233],\n",
       " [0.00191, 4.685e-07, 7.6766]]"
      ]
     },
     "execution_count": 40,
     "metadata": {},
     "output_type": "execute_result"
    }
   ],
   "source": [
    "array = [[float(entry.replace('u','e-6').replace('m','e-3')) for entry in line] for line in array[1:]]\n",
    "array"
   ]
  },
  {
   "cell_type": "code",
   "execution_count": 41,
   "metadata": {},
   "outputs": [],
   "source": [
    "import pandas as pd\n",
    "headers = ['Wn', 'Mag', 'Rho']\n",
    "tem_df = pd.DataFrame(array, columns=headers)"
   ]
  },
  {
   "cell_type": "code",
   "execution_count": 43,
   "metadata": {},
   "outputs": [
    {
     "data": {
      "text/plain": [
       "<matplotlib.axes._subplots.AxesSubplot at 0x24932ab9e10>"
      ]
     },
     "execution_count": 43,
     "metadata": {},
     "output_type": "execute_result"
    },
    {
     "data": {
      "image/png": "[encoded data removed]",
      "text/plain": [
       "<matplotlib.figure.Figure at 0x249327d4f98>"
      ]
     },
     "metadata": {},
     "output_type": "display_data"
    }
   ],
   "source": [
    "import matplotlib as plt\n",
    "%matplotlib inline\n",
    "\n",
    "tem_df.plot(x = 'Wn', y='Mag', loglog=True)"
   ]
  },
  {
   "cell_type": "code",
   "execution_count": 46,
   "metadata": {},
   "outputs": [
    {
     "data": {
      "text/plain": [
       "0     0.001087\n",
       "1     0.000480\n",
       "2     0.000400\n",
       "3     0.000398\n",
       "4     0.000427\n",
       "5     0.000468\n",
       "6     0.000525\n",
       "7     0.000604\n",
       "8     0.000668\n",
       "9     0.000725\n",
       "10    0.000774\n",
       "11    0.000830\n",
       "12    0.000910\n",
       "13    0.001096\n",
       "14    0.001501\n",
       "15    0.001941\n",
       "16    0.002008\n",
       "17    0.002931\n",
       "18    0.005893\n",
       "19         NaN\n",
       "20         NaN\n",
       "21         NaN\n",
       "22         NaN\n",
       "23         NaN\n",
       "24         NaN\n",
       "25         NaN\n",
       "26         NaN\n",
       "27         NaN\n",
       "28    0.006535\n",
       "29    0.001912\n",
       "30    0.001877\n",
       "dtype: float64"
      ]
     },
     "execution_count": 46,
     "metadata": {},
     "output_type": "execute_result"
    }
   ],
   "source": [
    "#import pygimli\n",
    "from pygimli.physics.em import rhoafromB\n",
    "\n",
    "rhoafromB(tem_df['Mag'],tem_df['Wn'],100.0,current=3)"
   ]
  },
  {
   "cell_type": "code",
   "execution_count": null,
   "metadata": {},
   "outputs": [],
   "source": []
  }
 ],
 "metadata": {
  "kernelspec": {
   "display_name": "Python 3",
   "language": "python",
   "name": "python3"
  },
  "language_info": {
   "codemirror_mode": {
    "name": "ipython",
    "version": 3
   },
   "file_extension": ".py",
   "mimetype": "text/x-python",
   "name": "python",
   "nbconvert_exporter": "python",
   "pygments_lexer": "ipython3",
   "version": "3.6.3"
  }
 },
 "nbformat": 4,
 "nbformat_minor": 2
}
